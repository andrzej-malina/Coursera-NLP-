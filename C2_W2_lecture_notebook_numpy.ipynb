{
 "cells": [
  {
   "cell_type": "markdown",
   "metadata": {},
   "source": [
    "# Tagowanie części mowy - Praca z tagami i biblioteką Numpy"
   ]
  },
  {
   "cell_type": "markdown",
   "metadata": {},
   "source": [
    "W tym notebooku stworzymy macierz z wykorzystaniem niektórych informacji zawartych w tagach, a następnie zmodyfikujemy ją przy użyciu różnych podejść.\n",
    "Będzie to służyć jako praktyczne doświadczenie w pracy z Numpy oraz jako wprowadzenie do niektórych elementów używanych do tagowania części mowy (POS - part of speech tagging)."
   ]
  },
  {
   "cell_type": "code",
   "execution_count": 1,
   "metadata": {},
   "outputs": [],
   "source": [
    "import numpy as np\n",
    "import pandas as pd"
   ]
  },
  {
   "cell_type": "markdown",
   "metadata": {},
   "source": [
    "### Some information on tags"
   ]
  },
  {
   "cell_type": "markdown",
   "metadata": {},
   "source": [
    "W przypadku tego notebooka będzie używany uproszczony przykład zawierający tylko trzy tagi (lub stany). W rzeczywistym zastosowaniu jest wiele innych tagów, które można znaleźć [tutaj](https://www.ling.upenn.edu/courses/Fall_2003/ling001/penn_treebank_pos.html)."
   ]
  },
  {
   "cell_type": "code",
   "execution_count": 2,
   "metadata": {},
   "outputs": [],
   "source": [
    "# Definiujemy oznaczenie tagów dla przysłówków RB, rzeczowników NN i przyimków TO\n",
    "tags = ['RB', 'NN', 'TO']"
   ]
  },
  {
   "cell_type": "markdown",
   "metadata": {},
   "source": [
    "W tym tygodniu skonstruujesz kilka słowników, które dostarczą użytecznych informacji o tagach i słowach, z którymi będziesz pracować. \n",
    "\n",
    "Jednym z tych słowników jest `transition_counts`, który liczy, ile razy dany tag zdarzył się obok innego. Klucze tego słownika mają postać `(previous_tag, tag)` a wartościami są częstotliwości występowania.\n",
    "\n",
    "Inny jest słownik `emission_counts`, który będzie liczył ile razy dana para `(tag, słowo)` pojawiła się w zbiorze danych szkoleniowych.\n",
    "\n",
    "Ogólnie rzecz biorąc, należy myśleć o `transition` tylko podczas pracy z tagami oraz o `emission` podczas pracy z tagami i słowami.\n",
    "\n",
    "W tym notebooku będziesz patrzył na pierwszy z nich:"
   ]
  },
  {
   "cell_type": "code",
   "execution_count": 7,
   "metadata": {},
   "outputs": [],
   "source": [
    "# Definiujemy słownik 'transition_counts' \n",
    "# Uwaga: wartości są takie same jak w zadaniu końcowym\n",
    "transition_counts = {\n",
    "    ('NN', 'NN'): 16241,\n",
    "    ('RB', 'RB'): 2263,\n",
    "    ('TO', 'TO'): 2,\n",
    "    ('NN', 'TO'): 5256,\n",
    "    ('RB', 'TO'): 855,\n",
    "    ('TO', 'NN'): 734,\n",
    "    ('NN', 'RB'): 2431,\n",
    "    ('RB', 'NN'): 358,\n",
    "    ('TO', 'RB'): 200\n",
    "}"
   ]
  },
  {
   "cell_type": "markdown",
   "metadata": {},
   "source": [
    "Zauważ, że istnieje 9 kombinacji 3 używanych tagów. Każdy tag może pojawić się po tym samym tag, więc należy je również uwzględnić.\n",
    "\n",
    "### Użycie Numpy do stworzenia macierzy\n",
    "\n",
    "Teraz stworzysz macierz, która zawiera te częstotliwości przy użyciu wektorów Numpy:"
   ]
  },
  {
   "cell_type": "code",
   "execution_count": 3,
   "metadata": {},
   "outputs": [
    {
     "data": {
      "text/plain": [
       "array([[0., 0., 0.],\n",
       "       [0., 0., 0.],\n",
       "       [0., 0., 0.]])"
      ]
     },
     "execution_count": 3,
     "metadata": {},
     "output_type": "execute_result"
    }
   ],
   "source": [
    "# zapisujemy liczbę wszystkich tagów w zmiennej 'num_tags'\n",
    "num_tags = len(tags)\n",
    "\n",
    "# Inicjalizujemy macierz 3x3 wypełnioną zerami\n",
    "transition_matrix = np.zeros((num_tags, num_tags))\n",
    "\n",
    "# Wypisujemy macierz\n",
    "transition_matrix"
   ]
  },
  {
   "cell_type": "markdown",
   "metadata": {},
   "source": [
    "Wizualnie można zobaczyć, że macierz ma odpowiednie wymiary. Nie zapomnij też, że możesz to sprawdzić używając  `shape`:"
   ]
  },
  {
   "cell_type": "code",
   "execution_count": 4,
   "metadata": {},
   "outputs": [
    {
     "data": {
      "text/plain": [
       "(3, 3)"
      ]
     },
     "execution_count": 4,
     "metadata": {},
     "output_type": "execute_result"
    }
   ],
   "source": [
    "# Wymiary macierzy\n",
    "transition_matrix.shape"
   ]
  },
  {
   "cell_type": "markdown",
   "metadata": {},
   "source": [
    "Przed wypełnieniem tej macierzy wartościami słownika `transition_counts` należy posortować tagi tak, aby ich umieszczenie w macierzy było spójne:"
   ]
  },
  {
   "cell_type": "code",
   "execution_count": 5,
   "metadata": {},
   "outputs": [
    {
     "data": {
      "text/plain": [
       "['NN', 'RB', 'TO']"
      ]
     },
     "execution_count": 5,
     "metadata": {},
     "output_type": "execute_result"
    }
   ],
   "source": [
    "# Posortowana lista tagów \n",
    "sorted_tags = sorted(tags)\n",
    "\n",
    "# Zobaczmy jak wygląda lista tagów po posortowaniu\n",
    "sorted_tags"
   ]
  },
  {
   "cell_type": "markdown",
   "metadata": {},
   "source": [
    "Aby wypełnić tę matrycę właściwymi wartościami, możesz użyć `podwójnej pętli for`. Możesz również użyć `itertools.product` aby zapisać taką podwójną pętlę za pomocą jednej linijki kodu:"
   ]
  },
  {
   "cell_type": "code",
   "execution_count": 8,
   "metadata": {},
   "outputs": [
    {
     "data": {
      "text/plain": [
       "array([[1.6241e+04, 2.4310e+03, 5.2560e+03],\n",
       "       [3.5800e+02, 2.2630e+03, 8.5500e+02],\n",
       "       [7.3400e+02, 2.0000e+02, 2.0000e+00]])"
      ]
     },
     "execution_count": 8,
     "metadata": {},
     "output_type": "execute_result"
    }
   ],
   "source": [
    "# pętla po wierszach\n",
    "for i in range(num_tags):\n",
    "    # pętla po kolumnach\n",
    "    for j in range(num_tags):\n",
    "        # Definiujemy parę tagów\n",
    "        tag_tuple = (sorted_tags[i], sorted_tags[j])\n",
    "        # Do pozycji (i,j) w macierzy 'transition_counts' zapisujemy częstotliwość ze słownika dla danej pary tagów\n",
    "        transition_matrix[i, j] = transition_counts.get(tag_tuple)\n",
    "\n",
    "# macierz po wypełnieniu danymi ze słownika\n",
    "transition_matrix"
   ]
  },
  {
   "cell_type": "markdown",
   "metadata": {},
   "source": [
    "Wygląda na to, że to zadziałało dobrze. Jednak macierz może być trudna do odczytania, ponieważ `Numpy` skupia się raczej na wydajności, a nie na prezentowaniu wartości w ładnym formacie. \n",
    "\n",
    "Do tego celu można użyć `Pandas DataFrame`. W szczególności, funkcja, która bierze macierz jako wejście i wypisuje jej ładną wersję, będzie bardzo użyteczna:"
   ]
  },
  {
   "cell_type": "code",
   "execution_count": 9,
   "metadata": {},
   "outputs": [],
   "source": [
    "# tworzymy funkcję 'print_matrix' do ładnego formatowania macierzy\n",
    "def print_matrix(matrix):\n",
    "    print(pd.DataFrame(matrix, index=sorted_tags, columns=sorted_tags))"
   ]
  },
  {
   "cell_type": "markdown",
   "metadata": {},
   "source": [
    "Zauważ, że tagi nie są parametrem funkcji. Dzieje się tak, ponieważ lista `sorted_tags` nie zmieni się w pozostałej części notebooka, więc bezpieczne jest używanie wcześniej zadeklarowanej zmiennej. Aby przetestować tę funkcję, po prostu uruchom ją: "
   ]
  },
  {
   "cell_type": "code",
   "execution_count": 10,
   "metadata": {},
   "outputs": [
    {
     "name": "stdout",
     "output_type": "stream",
     "text": [
      "         NN      RB      TO\n",
      "NN  16241.0  2431.0  5256.0\n",
      "RB    358.0  2263.0   855.0\n",
      "TO    734.0   200.0     2.0\n"
     ]
    }
   ],
   "source": [
    "# Sprawdźmy jak zadziała funkcja 'print_matrix'\n",
    "print_matrix(transition_matrix)"
   ]
  },
  {
   "cell_type": "markdown",
   "metadata": {},
   "source": [
    "To wygląda o wiele lepiej, prawda? \n",
    "\n",
    "Jak już może zauważyłeś, ta matryca nie jest symetryczna."
   ]
  },
  {
   "cell_type": "markdown",
   "metadata": {},
   "source": [
    "### Praca na macierzach z Numpy"
   ]
  },
  {
   "cell_type": "markdown",
   "metadata": {},
   "source": [
    "Teraz, gdy masz już ustawioną macierz, czas zobaczyć jak można nią manipulować po jej utworzeniu. \n",
    "\n",
    "`Numpy` pozwala na operacje wektorowe, co oznacza, że operacje, które normalnie obejmowałyby pętlę po macierzy, mogą być wykonywane w prostszy sposób. Jest to zgodne z traktowaniem macierzy Numpy jako macierzy, ponieważ otrzymuje się wsparcie dla wspólnych operacji na macierzach. Możesz robić mnożenie macierzy, mnożenie skalarne, dodawanie wektorów i wiele innych!\n",
    "\n",
    "Na przykład spróbuj przeskalować każdą wartość w macierzy o współczynnik $\\frac{1}{10}$. Normalnie zapętlałbyś każdą z wartości w macierzy, aktualizując je odpowiednio. Ale w Numpy jest to tak proste jak podzielenie całej macierzy przez 10:"
   ]
  },
  {
   "cell_type": "code",
   "execution_count": 11,
   "metadata": {},
   "outputs": [
    {
     "name": "stdout",
     "output_type": "stream",
     "text": [
      "        NN     RB     TO\n",
      "NN  1624.1  243.1  525.6\n",
      "RB    35.8  226.3   85.5\n",
      "TO    73.4   20.0    0.2\n"
     ]
    }
   ],
   "source": [
    "# Skalowanie macierzy\n",
    "transition_matrix = transition_matrix/10\n",
    "\n",
    "# macierz po skalowaniu\n",
    "print_matrix(transition_matrix)"
   ]
  },
  {
   "cell_type": "markdown",
   "metadata": {},
   "source": [
    "Innym trudniejszym przykładem jest normalizacja każdego wiersza tak, aby każda wartość była równa $\\frac{value}{sum \\,of \\,row}$.\n",
    "\n",
    "Można to łatwo zrobić z wektoryzacją. Najpierw obliczysz sumę każdego wiersza:"
   ]
  },
  {
   "cell_type": "code",
   "execution_count": 12,
   "metadata": {},
   "outputs": [
    {
     "data": {
      "text/plain": [
       "array([[2392.8],\n",
       "       [ 347.6],\n",
       "       [  93.6]])"
      ]
     },
     "execution_count": 12,
     "metadata": {},
     "output_type": "execute_result"
    }
   ],
   "source": [
    "# dla każdego rzędu obliczamy sumę wartości w rzędu\n",
    "rows_sum = transition_matrix.sum(axis=1, keepdims=True)\n",
    "\n",
    "# wypiszmy obliczone sumy\n",
    "rows_sum"
   ]
  },
  {
   "cell_type": "markdown",
   "metadata": {},
   "source": [
    "Zauważ, że została użyta metoda `sum()`. Metoda ta robi dokładnie to, co sugeruje jej nazwa. Ponieważ suma wierszy była pożądana, oś została ustawiona na `1`. W Numpy `axis=1` odnosi się do kolumn, więc suma jest robiona przez sumowanie każdej kolumny danego wiersza, dla każdego wiersza. \n",
    "\n",
    "Również parametr `keepdims` został ustawiony na `True`, więc wynikowa macierz miała kształt `(3, 1)` a nie `(3,)`. Zostało to zrobione tak, aby osie były zgodne z pożądaną operacją. \n",
    "\n",
    "Podczas pracy z Numpy, zawsze pamiętaj o sprawdzeniu kształtu tablic, z którymi pracujesz, wiele nieoczekiwanych błędów zdarza się z powodu braku spójności osi. Atrybut `shape` będzie twoim przyjacielem dla tych przypadków."
   ]
  },
  {
   "cell_type": "code",
   "execution_count": 13,
   "metadata": {},
   "outputs": [
    {
     "name": "stdout",
     "output_type": "stream",
     "text": [
      "          NN        RB        TO\n",
      "NN  0.678745  0.101596  0.219659\n",
      "RB  0.102992  0.651036  0.245972\n",
      "TO  0.784188  0.213675  0.002137\n"
     ]
    }
   ],
   "source": [
    "# normalizacja transition matrix\n",
    "transition_matrix = transition_matrix / rows_sum\n",
    "\n",
    "# macierz po normalizacji\n",
    "print_matrix(transition_matrix)"
   ]
  },
  {
   "cell_type": "markdown",
   "metadata": {},
   "source": [
    "Zauważ, że przeprowadzona normalizacja wymusza, aby suma każdego rzędu była równa `1`. Można to łatwo sprawdzić, uruchamiając metodę \"sum\" na wynikowej macierzy:"
   ]
  },
  {
   "cell_type": "code",
   "execution_count": 14,
   "metadata": {},
   "outputs": [
    {
     "data": {
      "text/plain": [
       "array([[1.],\n",
       "       [1.],\n",
       "       [1.]])"
      ]
     },
     "execution_count": 14,
     "metadata": {},
     "output_type": "execute_result"
    }
   ],
   "source": [
    "transition_matrix.sum(axis=1, keepdims=True)"
   ]
  },
  {
   "cell_type": "markdown",
   "metadata": {},
   "source": [
    "Dla ostatecznego przykładu, jesteś proszony o modyfikację każdej wartości przekątnej macierzy tak, aby były one równe `log` sumy bieżącego wiersza plus bieżąca wartość. Wykonując takie operacje matematyczne jak ta, nie zapomnij zaimportować modułu `math`. \n",
    "\n",
    "Można to zrobić przy użyciu standardu `pętli` lub`wektoryzacji`. Zobacz oba podejścia:"
   ]
  },
  {
   "cell_type": "code",
   "execution_count": 16,
   "metadata": {},
   "outputs": [],
   "source": [
    "import math\n",
    "\n",
    "# kopiujemy macierz, aby pokazać podejście z pętlą for\n",
    "t_matrix_for = np.copy(transition_matrix)\n",
    "\n",
    "# kopiujemy macierz, aby pokazać podejście z wykorzystaniem wektorów numpy\n",
    "t_matrix_np = np.copy(transition_matrix)"
   ]
  },
  {
   "cell_type": "markdown",
   "metadata": {},
   "source": [
    "#### Pętla for"
   ]
  },
  {
   "cell_type": "code",
   "execution_count": 17,
   "metadata": {},
   "outputs": [
    {
     "name": "stdout",
     "output_type": "stream",
     "text": [
      "          NN        RB        TO\n",
      "NN  8.458964  0.101596  0.219659\n",
      "RB  0.102992  6.502088  0.245972\n",
      "TO  0.784188  0.213675  4.541167\n"
     ]
    }
   ],
   "source": [
    "# przechodzimy pętlą po wszystkich wartościach na przekątnej macierzy\n",
    "for i in range(num_tags):\n",
    "    t_matrix_for[i, i] =  t_matrix_for[i, i] + math.log(rows_sum[i])\n",
    "\n",
    "# macierz po działaniu\n",
    "print_matrix(t_matrix_for)"
   ]
  },
  {
   "cell_type": "markdown",
   "metadata": {},
   "source": [
    "#### Działania na wektorach numpy"
   ]
  },
  {
   "cell_type": "code",
   "execution_count": 18,
   "metadata": {},
   "outputs": [
    {
     "data": {
      "text/plain": [
       "(3,)"
      ]
     },
     "execution_count": 18,
     "metadata": {},
     "output_type": "execute_result"
    }
   ],
   "source": [
    "# Zapisujemy przekątną jako wektor numpy\n",
    "d = np.diag(t_matrix_np)\n",
    "\n",
    "# wypiszmy rozmiar przekątnej d\n",
    "d.shape"
   ]
  },
  {
   "cell_type": "markdown",
   "metadata": {},
   "source": [
    "Możesz zapisać przekątną w tablicy numpy używając funkcji Numpy's `diag()`. Zauważ, że tablica ta ma kształt `(3,)`, więc jest niezgodna z wymiarami tablicy `rows_sum`, które są `(3, 1)`. Będziesz musiał zmienić kształt, zanim przejdziesz do przodu. Do tego celu można użyć funkcji Numpy `reshape()`, określającej pożądany kształt w tuple:"
   ]
  },
  {
   "cell_type": "code",
   "execution_count": 19,
   "metadata": {},
   "outputs": [
    {
     "data": {
      "text/plain": [
       "(3, 1)"
      ]
     },
     "execution_count": 19,
     "metadata": {},
     "output_type": "execute_result"
    }
   ],
   "source": [
    "# zmieniamy rozmiar przekątnej d na (3,1)\n",
    "d = np.reshape(d, (3,1))\n",
    "\n",
    "# rozmiar d po zmianie\n",
    "d.shape"
   ]
  },
  {
   "cell_type": "markdown",
   "metadata": {},
   "source": [
    "Teraz, gdy przekątna ma prawidłowy rozmiar, możesz wykonać operację wektorową poprzez zastosowanie funkcji `math.log()` do tablicy `rows_sum` i dodanie przekątnej. \n",
    "\n",
    "Aby zastosować funkcję do każdego elementu tablicy numpy, użyj funkcji Numpy `vektorize()` podającej żądaną funkcję jako parametr. Funkcja ta zwraca funkcję wektorową, która przyjmuje tablicę numpy jako parametr. \n",
    "\n",
    "Do aktualizacji oryginalnej macierzy można użyć funkcji Numpy `fill_diagonal()`."
   ]
  },
  {
   "cell_type": "code",
   "execution_count": 20,
   "metadata": {},
   "outputs": [
    {
     "name": "stdout",
     "output_type": "stream",
     "text": [
      "          NN        RB        TO\n",
      "NN  8.458964  0.101596  0.219659\n",
      "RB  0.102992  6.502088  0.245972\n",
      "TO  0.784188  0.213675  4.541167\n"
     ]
    }
   ],
   "source": [
    "# operacja na wektorach\n",
    "d = d + np.vectorize(math.log)(rows_sum)\n",
    "\n",
    "# Używamy funkcji 'fill_diagonal' aby wstawić dane na przekątnej\n",
    "np.fill_diagonal(t_matrix_np, d)\n",
    "\n",
    "# macierz po działaniu\n",
    "print_matrix(t_matrix_np)"
   ]
  },
  {
   "cell_type": "markdown",
   "metadata": {},
   "source": [
    "Aby sprawdzić, czy obie metody dają ten sam wynik, można porównać obie macierze. Zauważ, że ta operacja jest również wektorowa, więc uzyskasz sprawdzenie równości dla każdego elementu w obu matrycach:"
   ]
  },
  {
   "cell_type": "code",
   "execution_count": 21,
   "metadata": {},
   "outputs": [
    {
     "data": {
      "text/plain": [
       "array([[ True,  True,  True],\n",
       "       [ True,  True,  True],\n",
       "       [ True,  True,  True]])"
      ]
     },
     "execution_count": 21,
     "metadata": {},
     "output_type": "execute_result"
    }
   ],
   "source": [
    "# sprawdzenie równości\n",
    "t_matrix_for == t_matrix_np"
   ]
  },
  {
   "cell_type": "markdown",
   "metadata": {},
   "source": [
    "**Gratulujemy ukończenia tego notebooka!** Teraz powinieneś być bardziej zaznajomiony z niektórymi elementami używanymi przez model oznaczający części mowy, takimi jak słownik `transition_counts` oraz z pracą z Numpy.\n",
    "\n",
    "**Kontynuuj dobrą robotę!**"
   ]
  },
  {
   "cell_type": "code",
   "execution_count": null,
   "metadata": {},
   "outputs": [],
   "source": []
  }
 ],
 "metadata": {
  "kernelspec": {
   "display_name": "Python 3",
   "language": "python",
   "name": "python3"
  },
  "language_info": {
   "codemirror_mode": {
    "name": "ipython",
    "version": 3
   },
   "file_extension": ".py",
   "mimetype": "text/x-python",
   "name": "python",
   "nbconvert_exporter": "python",
   "pygments_lexer": "ipython3",
   "version": "3.8.0b4"
  }
 },
 "nbformat": 4,
 "nbformat_minor": 4
}
