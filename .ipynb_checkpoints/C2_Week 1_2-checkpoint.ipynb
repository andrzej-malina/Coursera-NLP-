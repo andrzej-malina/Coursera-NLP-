{
 "cells": [
  {
   "cell_type": "markdown",
   "metadata": {},
   "source": [
    "# Kurs NLP 2 Tydzień 1 Lekcja : Budowa modelu - Ćwiczenie 02\n",
    "Estimated Time: 20 minutes\n",
    "<br>\n",
    "# Kandydaci z edytowanych stringów\n",
    "Tworzymy listę kandydatów (stringów) edytując słowo wejściowe\n",
    "<br>\n",
    "### Import danych"
   ]
  },
  {
   "cell_type": "code",
   "execution_count": 1,
   "metadata": {},
   "outputs": [],
   "source": [
    "# dane\n",
    "word = 'dearz' # 🦌"
   ]
  },
  {
   "cell_type": "markdown",
   "metadata": {},
   "source": [
    "### Podział słowa (split)\n",
    "Poznaj wszystkie sposoby, aby podzielić słowo na 2 części !"
   ]
  },
  {
   "cell_type": "code",
   "execution_count": 2,
   "metadata": {},
   "outputs": [
    {
     "name": "stdout",
     "output_type": "stream",
     "text": [
      "['', 'dearz']\n",
      "['d', 'earz']\n",
      "['de', 'arz']\n",
      "['dea', 'rz']\n",
      "['dear', 'z']\n",
      "['dearz', '']\n"
     ]
    }
   ],
   "source": [
    "# podział przy użyciu pętli\n",
    "splits_a = []\n",
    "for i in range(len(word)+1):\n",
    "    splits_a.append([word[:i],word[i:]])\n",
    "\n",
    "for i in splits_a:\n",
    "    print(i)"
   ]
  },
  {
   "cell_type": "code",
   "execution_count": 3,
   "metadata": {},
   "outputs": [
    {
     "name": "stdout",
     "output_type": "stream",
     "text": [
      "('', 'dearz')\n",
      "('d', 'earz')\n",
      "('de', 'arz')\n",
      "('dea', 'rz')\n",
      "('dear', 'z')\n",
      "('dearz', '')\n"
     ]
    }
   ],
   "source": [
    "# taki sam podział przy użyciu list comprehension (wyrażenia listowe)\n",
    "splits_b = [(word[:i], word[i:]) for i in range(len(word) + 1)]\n",
    "\n",
    "for i in splits_b:\n",
    "    print(i)"
   ]
  },
  {
   "cell_type": "markdown",
   "metadata": {},
   "source": [
    "### Usuwanie litery\n",
    "Usuń po jednej literze z listy `splits`.\n",
    "<br>\n",
    "Efektywnie usuwamy każdą literę występującą w oryginalnym słowie. "
   ]
  },
  {
   "cell_type": "code",
   "execution_count": 7,
   "metadata": {},
   "outputs": [
    {
     "name": "stdout",
     "output_type": "stream",
     "text": [
      "słowo :  dearz\n",
      "earz  <-- usunięto  d\n",
      "darz  <-- usunięto  e\n",
      "derz  <-- usunięto  a\n",
      "deaz  <-- usunięto  r\n",
      "dear  <-- usunięto  z\n"
     ]
    }
   ],
   "source": [
    "# usuwanie przy użyciu pętli\n",
    "splits = splits_a\n",
    "deletes = []\n",
    "\n",
    "print('słowo : ', word)\n",
    "for L,R in splits:\n",
    "    if R:\n",
    "        print(L + R[1:], ' <-- usunięto ', R[0])"
   ]
  },
  {
   "cell_type": "markdown",
   "metadata": {},
   "source": [
    "Warto przyjrzeć się dokładniej jak krok po kroku działa to usuwanie\n",
    "<br>\n",
    "Bierzemy pierwszy przykład z listy `splits` :"
   ]
  },
  {
   "cell_type": "code",
   "execution_count": 8,
   "metadata": {},
   "outputs": [
    {
     "name": "stdout",
     "output_type": "stream",
     "text": [
      "słowo :  dearz\n",
      "Pierwszy przykład z listy splits :  ['', 'dearz']\n",
      "L :  \n",
      "R :  dearz\n",
      "*** następnie usuwamy przez pominięcie pierwszej litery w R ***\n",
      "L + R[1:] :  earz  <-- usunięto  d\n"
     ]
    }
   ],
   "source": [
    "# usuwanie krok po kroku\n",
    "print('słowo : ', word)\n",
    "one_split = splits[0]\n",
    "print('Pierwszy przykład z listy splits : ', one_split)\n",
    "L = one_split[0]\n",
    "R = one_split[1]\n",
    "print('L : ', L)\n",
    "print('R : ', R)\n",
    "print('*** następnie usuwamy przez pominięcie pierwszej litery w R ***')\n",
    "print('L + R[1:] : ',L + R[1:], ' <-- usunięto ', R[0])"
   ]
  },
  {
   "cell_type": "markdown",
   "metadata": {},
   "source": [
    "W wyniku działania algorytmu słowo **'dearz'** przekształcamy w **'earz'** usuwając pierwszy znak.\n",
    "<br>\n",
    "Używamy **pętli** (kod powyżej) lub **wyrażenia listowego** (kod poniżej), aby\n",
    "<br>\n",
    "wykonać działanie dla wszystki pozycji z listy `splits`."
   ]
  },
  {
   "cell_type": "code",
   "execution_count": 9,
   "metadata": {},
   "outputs": [
    {
     "name": "stdout",
     "output_type": "stream",
     "text": [
      "['earz', 'darz', 'derz', 'deaz', 'dear']\n",
      "*** Czyli to samo co wcześniej ***\n",
      "earz\n",
      "darz\n",
      "derz\n",
      "deaz\n",
      "dear\n"
     ]
    }
   ],
   "source": [
    "# usuwanie przy użyciu list comprehension (wyrażenia listowego)\n",
    "splits = splits_a\n",
    "deletes = [L + R[1:] for L, R in splits if R]\n",
    "\n",
    "print(deletes)\n",
    "print('*** Czyli to samo co wcześniej ***')\n",
    "for i in deletes:\n",
    "    print(i)"
   ]
  },
  {
   "cell_type": "markdown",
   "metadata": {},
   "source": [
    "### Ćwiczenie\n",
    "Mamy listę ***kandydatów stringów*** stworzonę poprzez **usuwanie**.\n",
    "<br>\n",
    "Następnym krokiem będzie przefiltrowanie tej listy, aby znaleźć listę ***kandydatów słów*** które występują w słowniku.\n",
    "<br>\n",
    "Mając przykładowy słownik poniżej, stwórz listę kandydatów słów. \n",
    "<br>\n",
    "Pamiętaj, masz już gotową listę kandydatów stringów, spośród których niektóre na pewno nie są słowami ze słownika !\n",
    "<br>\n",
    "<br>\n",
    "Tak więc z powyższej listy **earz, darz, derz, deaz, dear**. \n",
    "<br>\n",
    "Interesuje nas tylko słowo **dear**."
   ]
  },
  {
   "cell_type": "code",
   "execution_count": 14,
   "metadata": {},
   "outputs": [
    {
     "name": "stdout",
     "output_type": "stream",
     "text": [
      "vocab :  ['dean', 'deer', 'dear', 'fries', 'and', 'coke']\n",
      "edits :  ['earz', 'darz', 'derz', 'deaz', 'dear']\n",
      "candidate words :  {'dear'}\n"
     ]
    }
   ],
   "source": [
    "vocab = ['dean','deer','dear','fries','and','coke']\n",
    "edits = list(deletes)\n",
    "\n",
    "print('vocab : ', vocab)\n",
    "print('edits : ', edits)\n",
    "\n",
    "candidates=[]\n",
    "\n",
    "### START CODE HERE ###\n",
    "candidates = set(vocab).intersection(edits)  # hint: 'set.intersection'\n",
    "### END CODE HERE ###\n",
    "\n",
    "print('candidate words : ', candidates)"
   ]
  },
  {
   "cell_type": "markdown",
   "metadata": {},
   "source": [
    "Expected Outcome:\n",
    "\n",
    "vocab :  ['dean', 'deer', 'dear', 'fries', 'and', 'coke']\n",
    "<br>\n",
    "edits :  ['earz', 'darz', 'derz', 'deaz', 'dear']\n",
    "<br>\n",
    "candidate words :  {'dear'}"
   ]
  },
  {
   "cell_type": "markdown",
   "metadata": {},
   "source": [
    "### Podsumowanie\n",
    "Zgłębiłeś szczegóły znacznej części zadania analizując **splits** i **edits**, a zwłaszcza  **deletes** .\n",
    "<br>\n",
    "Implementacja innych typów edycji (wstawianie, zamiana, przełączanie) odbywa się według podobnej metodologii i powinna być teraz nieco znana.\n",
    "<br>\n",
    "Ten fragment kodu nie jest tak intuicyjny jak inne sekcje, więc brwo za dobrą robotę!\n",
    "<br>\n",
    "Teraz powinieneś czuć się pewnie w obliczu niektórych z bardziej technicznych części zadania pod koniec tygodnia."
   ]
  },
  {
   "cell_type": "code",
   "execution_count": null,
   "metadata": {},
   "outputs": [],
   "source": []
  }
 ],
 "metadata": {
  "kernelspec": {
   "display_name": "Python 3",
   "language": "python",
   "name": "python3"
  },
  "language_info": {
   "codemirror_mode": {
    "name": "ipython",
    "version": 3
   },
   "file_extension": ".py",
   "mimetype": "text/x-python",
   "name": "python",
   "nbconvert_exporter": "python",
   "pygments_lexer": "ipython3",
   "version": "3.8.0b4"
  }
 },
 "nbformat": 4,
 "nbformat_minor": 2
}
