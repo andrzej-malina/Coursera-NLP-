{
 "cells": [
  {
   "cell_type": "markdown",
   "metadata": {},
   "source": [
    "# Przygotowanie tekstu\n",
    "\n",
    "W tej laborce będziemy przygotowywać tekst tweetów do analizy sentymentu. Docelowo podana zostanie gotowa funkcja do przygotowania tweetów, ale dobrze jest wiedzieć co dzieje się w takiej funkcji. W tej laborce nauczymy się korzystać z pakietu NLTK (Natural Language Toolkit), aby przygotować zautomatyzowany pipeline do przygotowania zbiór danych tekstowych z Twittera.\n"
   ]
  },
  {
   "cell_type": "markdown",
   "metadata": {},
   "source": [
    "# Biblioteki\n",
    "\n",
    "Kurs w pierwszych dwóch tygodniach przewiduje pracę na danych tekstowych z Twittera. Będziemy używać biblioteki NLTK dedykowanej do przetwarzania języka naturalnego. Biblioteka ta posiada moduły do zbierania, przetwarzania i obrabiania danych z Twittera. W trakcie kursu będziemy poznawać kolejne moduły. Do tego ćwiczenia skorzystamy ze zbioru danych Twitterowych przygotowanego w bibliotece NLTK. Jest to ręcznie oznaczony zbiór tweetów, który służy do szybkiego wyznaczania startowych możliwości naszego modelu (baseline). Zaimportujmy potrzebne biblioteki.\n"
   ]
  },
  {
   "cell_type": "code",
   "execution_count": 3,
   "metadata": {},
   "outputs": [],
   "source": [
    "import nltk                                # Biblioteka NLP do Pythona\n",
    "from nltk.corpus import twitter_samples    # przykładowy zbiór tweetów z NLTK\n",
    "import matplotlib.pyplot as plt            # Biblioteka do wizualizacji wyników\n",
    "import random                              # generator liczb pseudolosowych"
   ]
  },
  {
   "cell_type": "markdown",
   "metadata": {},
   "source": [
    "# O zbiorze danych z Twittera\n",
    "Zbiór tweetów z NLTK jest podzielony na pozytywne i negatywne tweety. Zawiera on dokładnie 5000 tweetów pozytywnych i 5000 tweetów negatywnych. Dokładne dopasowanie pomiędzy tymi klasami nie jest przypadkowe. Intencją jest posiadanie zrównoważonego zbioru danych. Nie odzwierciedla to rzeczywistych rozkładów klas pozytywnych i negatywnych w strumieniach Twittera na żywo. To tylko dlatego, że zrównoważone zestawy danych upraszczają projektowanie większości metod obliczeniowych, które są wymagane do analizy sentymentu. Jednakże, lepiej jest mieć świadomość, że ten bilans klas jest sztuczny.\n"
   ]
  },
  {
   "cell_type": "code",
   "execution_count": 4,
   "metadata": {},
   "outputs": [
    {
     "name": "stderr",
     "output_type": "stream",
     "text": [
      "[nltk_data] Downloading package twitter_samples to\n",
      "[nltk_data]     C:\\Users\\ajankowski\\AppData\\Roaming\\nltk_data...\n",
      "[nltk_data]   Unzipping corpora\\twitter_samples.zip.\n"
     ]
    },
    {
     "data": {
      "text/plain": [
       "True"
      ]
     },
     "execution_count": 4,
     "metadata": {},
     "output_type": "execute_result"
    }
   ],
   "source": [
    "#pobieramy zbiór danych z biblioteki nltk\n",
    "nltk.download('twitter_samples')"
   ]
  },
  {
   "cell_type": "markdown",
   "metadata": {},
   "source": [
    "Aby załadować pozytywne i negatywne tweety możemy użyć metody `strings()`:"
   ]
  },
  {
   "cell_type": "code",
   "execution_count": 5,
   "metadata": {},
   "outputs": [],
   "source": [
    "#wybieramy pozytywne i negatywne tweety ze zbioru danych\n",
    "all_positive_tweets = twitter_samples.strings('positive_tweets.json')\n",
    "all_negative_tweets = twitter_samples.strings('negative_tweets.json')"
   ]
  },
  {
   "cell_type": "code",
   "execution_count": 9,
   "metadata": {},
   "outputs": [
    {
     "name": "stdout",
     "output_type": "stream",
     "text": [
      "Ilość pozytywnych tweetów:  5000\n",
      "Ilość negatywnych tweetów:  5000\n",
      "\n",
      "Struktura pozytywnych tweetów to:  <class 'list'>\n",
      "Struktura pojedynczego tweeta to:  <class 'str'>\n"
     ]
    }
   ],
   "source": [
    "#sprawdzamy ilość tweetów w obu zbiorach oraz strukturę w jakich zapisane są dane\n",
    "print('Ilość pozytywnych tweetów: ', len(all_positive_tweets))\n",
    "print('Ilość negatywnych tweetów: ', len(all_negative_tweets))\n",
    "\n",
    "print('\\nStruktura pozytywnych tweetów to: ', type(all_positive_tweets))\n",
    "print('Struktura pojedynczego tweeta to: ', type(all_positive_tweets[0]))"
   ]
  },
  {
   "cell_type": "markdown",
   "metadata": {},
   "source": [
    "Jak widzimy tweety są zapisane w listach, a każdy pojedynczy tweet to zmienna typu string.\n",
    "\n",
    "Przedstawmy powyższe dane na wizualizacji wykorzystując bibliotekę matplotlib i wykres kołowy"
   ]
  },
  {
   "cell_type": "code",
   "execution_count": 11,
   "metadata": {},
   "outputs": [
    {
     "data": {
      "image/png": "[encoded data removed]",
      "text/plain": [
       "<Figure size 360x360 with 1 Axes>"
      ]
     },
     "metadata": {},
     "output_type": "display_data"
    }
   ],
   "source": [
    "# deklarujemy rozmiar wykresu\n",
    "fig = plt.figure(figsize=(5, 5))\n",
    "\n",
    "# oznaczamy klasy\n",
    "labels = 'Klasa pozytywna', 'Klasa negatywna'\n",
    "\n",
    "# rozmiary poszczególnych klas\n",
    "sizes = [len(all_positive_tweets), len(all_negative_tweets)] \n",
    "\n",
    "# Wybieramy wykres kołowy, części koła będą uszeregowane przeciwnie do ruchu wskazówek zegara:\n",
    "plt.pie(sizes, labels=labels, autopct='%1.1f%%',\n",
    "        shadow=True, startangle=90)\n",
    "\n",
    "# opcja 'equal' zapewnia, że wyrysujemy pełne koło\n",
    "plt.axis('equal')  \n",
    "\n",
    "# wyświetlenie wykresu\n",
    "plt.show()"
   ]
  },
  {
   "cell_type": "markdown",
   "metadata": {},
   "source": [
    "# Pierwsze spojrzenie na dane\n",
    "\n",
    "Na początek, możemy wydrukować kilka tweetów ze zbioru, aby zobaczyć jak wyglądają. Zrozumienie danych jest odpowiedzialne za 80% sukcesu lub porażki w projektach związanych z nauką o danych. Możemy wykorzystać ten czas na obserwację aspektów, które chcielibyśmy rozważyć podczas wstępnego przetwarzania naszych danych.\n",
    "\n",
    "Poniżej, wydrukujesz jeden losowo pozytywny i jeden losowo negatywny tweet. Dodaliśmy kolorowy znak na początku ciągu znaków, aby jeszcze bardziej rozróżnić te dwa elementy. (Ostrzeżenie: Jest on zaczerpnięty z publicznego zbioru danych prawdziwych tweetów i niewielka ilość tweetów zawiera treści wulgarne)."
   ]
  },
  {
   "cell_type": "code",
   "execution_count": 13,
   "metadata": {},
   "outputs": [
    {
     "name": "stdout",
     "output_type": "stream",
     "text": [
      "\u001b[92mGoing Home :)\n",
      "\u001b[91m@larryequality this :( http://t.co/6rEe3BrXe6\n"
     ]
    }
   ],
   "source": [
    "# tweet pozytywny na zielono\n",
    "print('\\033[92m' + all_positive_tweets[random.randint(0,5000)])\n",
    "\n",
    "# tweet negatywny na czerwono\n",
    "print('\\033[91m' + all_negative_tweets[random.randint(0,5000)])"
   ]
  },
  {
   "cell_type": "markdown",
   "metadata": {},
   "source": [
    "Od razu widać, że w wielu tweetach pojawiają się emoty i linki URL"
   ]
  },
  {
   "cell_type": "code",
   "execution_count": null,
   "metadata": {},
   "outputs": [],
   "source": []
  },
  {
   "cell_type": "code",
   "execution_count": null,
   "metadata": {},
   "outputs": [],
   "source": []
  },
  {
   "cell_type": "code",
   "execution_count": null,
   "metadata": {},
   "outputs": [],
   "source": []
  }
 ],
 "metadata": {
  "kernelspec": {
   "display_name": "Python 3",
   "language": "python",
   "name": "python3"
  },
  "language_info": {
   "codemirror_mode": {
    "name": "ipython",
    "version": 3
   },
   "file_extension": ".py",
   "mimetype": "text/x-python",
   "name": "python",
   "nbconvert_exporter": "python",
   "pygments_lexer": "ipython3",
   "version": "3.8.0b4"
  }
 },
 "nbformat": 4,
 "nbformat_minor": 4
}
